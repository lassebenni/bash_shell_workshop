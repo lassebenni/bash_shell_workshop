{
 "cells": [
  {
   "cell_type": "markdown",
   "metadata": {},
   "source": [
    "# Bash Workshop Part Two\n",
    "\n",
    "In this part we will discuss the following subjects:\n",
    "\n",
    "1. Quick re-cap of the previous part and sample exercises.\n",
    "2. File descriptors and STANDARD streams.\n",
    "3. Creating your first Bash script.\n",
    "4. Conditionals and If-else statements.\n",
    "5. For loops."
   ]
  },
  {
   "cell_type": "markdown",
   "metadata": {},
   "source": [
    "## Recap of Part one\n",
    "\n",
    "In the previous chapter we discussed the following concepts:\n",
    "\n",
    "- Basic commands like `cd`, `ls`, `cp` and `rm`.\n",
    "- Users, Groups and Permissions with `chmod` and `ls -l`.\n",
    "- Variables, like `name='Lasse` or `result=$(echo 10 | wc -c)`\n",
    "- Functions: `my_function () { command }`\n",
    "\n",
    "I have some exercised for you as a refresher. If you are stuck, take a look at [tutorial_part_one](tutorial_part_one.ipynb)"
   ]
  },
  {
   "cell_type": "markdown",
   "metadata": {},
   "source": [
    "### Exercises"
   ]
  },
  {
   "cell_type": "markdown",
   "metadata": {},
   "source": [
    "### \"Neighbour! So nice to see you!\"\n",
    "\"Please, do come into my `house`. I haven't seen you in ages and we HAVE to catch up! You do care about your lonely poor neigbour don't you, dear?\""
   ]
  },
  {
   "cell_type": "markdown",
   "metadata": {},
   "source": [
    "<div>\n",
    "<img src=\"https://thumbs.dreamstime.com/b/digital-vector-funny-comic-cartoon-old-red-hair-insidious-subtle-grandmother-big-glasses-holding-her-purse-looking-97506744.jpg\" width=\"200\" height=\"100\"/>\n",
    "</div>"
   ]
  },
  {
   "cell_type": "code",
   "execution_count": null,
   "metadata": {},
   "outputs": [],
   "source": [
    "house=$HOME/tutorials/house # we can use the \"${house}\" variable for reference"
   ]
  },
  {
   "cell_type": "code",
   "execution_count": 4,
   "metadata": {},
   "outputs": [],
   "source": [
    "# use two basic commands to enter your neighbours house and look around\n",
    "\n",
    "\n",
    "# tip 1: https://tldr.ostera.io/cd\n",
    "# tip 2:https://tldr.ostera.io/ls"
   ]
  },
  {
   "cell_type": "code",
   "execution_count": null,
   "metadata": {},
   "outputs": [],
   "source": [
    "# you can find the answer here\n",
    "grep \"q1answer\" $HOME/tutorials/answers.txt"
   ]
  },
  {
   "cell_type": "markdown",
   "metadata": {},
   "source": [
    "### \"Meowwww\""
   ]
  },
  {
   "cell_type": "markdown",
   "metadata": {},
   "source": [
    "<div>\n",
    "<img src=\"https://i.imgflip.com/wuhv0.jpg\" width=\"300\" height=\"300\"/>\n",
    "</div>"
   ]
  },
  {
   "cell_type": "markdown",
   "metadata": {},
   "source": [
    "\"What's that Whiskers? It looks like someone needs their food. I am pretty sure I left some new boxes of cat food in my `home`s `garage`. But I am not as fast as you. Will you be a dear and take a look at what we have? Please, make yourself at home.\""
   ]
  },
  {
   "cell_type": "code",
   "execution_count": null,
   "metadata": {},
   "outputs": [],
   "source": [
    "# look around in the garage and find all the cat-food\n",
    "\n",
    "# tip: Use `ls` and `cd` to traverse the rooms.\n",
    "\n",
    "# advanced: `find`  will save you time. https://tldr.ostera.io/find"
   ]
  },
  {
   "cell_type": "code",
   "execution_count": null,
   "metadata": {},
   "outputs": [],
   "source": [
    "grep q1answer $HOME/tutorials/answers.txt"
   ]
  },
  {
   "cell_type": "markdown",
   "metadata": {},
   "source": [
    "\"So wonderful, you are such a doll. Now you found it, please put all catfood in Whiskers `bowl` in the `livingroom`."
   ]
  },
  {
   "cell_type": "code",
   "execution_count": null,
   "metadata": {},
   "outputs": [],
   "source": [
    "# use `mv` to move the cat-food files to Whisker's `bowl` in the `livingroom`.\n",
    "# Yes, all of it.\n"
   ]
  },
  {
   "cell_type": "code",
   "execution_count": null,
   "metadata": {},
   "outputs": [],
   "source": [
    "grep q2answer $HOME/tutorials/answers.txt"
   ]
  },
  {
   "cell_type": "markdown",
   "metadata": {},
   "source": [
    "<div>\n",
    "<img src=\"https://static.boredpanda.com/blog/wp-content/uploads/2017/06/fat-cat-food-fail-comics-q-rais-1a-5938f203434fe__700.jpg\"  \n",
    "width=\"300\" height=\"200\"/>\n",
    "</div>"
   ]
  },
  {
   "cell_type": "markdown",
   "metadata": {},
   "source": [
    "\"You remind me of my late husband, he was such a diligent soul. Sometimes a bit forgetful though, like just now when you tried to feed Whiskers that moldy cat food. You don't want to make him sick do you? It's okay, just throw it away sweetie.\""
   ]
  },
  {
   "cell_type": "code",
   "execution_count": null,
   "metadata": {},
   "outputs": [],
   "source": [
    "# use `rm` to remove the moldy cat food and check that it is gone.\n"
   ]
  },
  {
   "cell_type": "code",
   "execution_count": null,
   "metadata": {},
   "outputs": [],
   "source": [
    "grep q3answer $HOME/tutorials/answers.txt"
   ]
  },
  {
   "cell_type": "markdown",
   "metadata": {},
   "source": [
    "\"Thank you so much [...] eh... Oh my, I seem to have completely lost it today.. What was your `name` again darling? I will write it in my notebook so I won't forget it ever again. Unless I forget my notebook again.\" "
   ]
  },
  {
   "cell_type": "code",
   "execution_count": null,
   "metadata": {},
   "outputs": [],
   "source": [
    "# add the missing line so this statement so it no longer throws an error\n",
    "\n",
    "echo \"${name}. Of course! How could I forget, ${name}.\" # don't edit this line"
   ]
  },
  {
   "cell_type": "code",
   "execution_count": null,
   "metadata": {},
   "outputs": [],
   "source": [
    "grep q4answer $HOME/tutorials/answers.txt"
   ]
  },
  {
   "cell_type": "markdown",
   "metadata": {},
   "source": [
    "\"I am afraid I can't find my glasses.. will you read my headlines of the newspaper for me? It's on the table right there.. I need to find out if the Bengals won last night, I placed a little bet, you see.. Its always the first four headlines\" "
   ]
  },
  {
   "cell_type": "code",
   "execution_count": null,
   "metadata": {},
   "outputs": [],
   "source": [
    "# read the first 4 lines of the newspaper. Tip: use your `head`\n",
    "\n"
   ]
  },
  {
   "cell_type": "code",
   "execution_count": null,
   "metadata": {},
   "outputs": [],
   "source": [
    "grep q5answer $HOME/tutorials/answers.txt"
   ]
  },
  {
   "cell_type": "markdown",
   "metadata": {},
   "source": [
    "\"Those darn Turnips, they are going to cost me a fortune.. Oh well, it just my pension. Thank you dear.\"\n",
    "\n",
    "\"Oh my! How dusty it is here, I am so embarrassed.. I have to clean this house for guests like yourself. Say... you look like you know about machines. My vacuum cleaner stopped working some time ago.. Do you think you could look at it?\""
   ]
  },
  {
   "cell_type": "markdown",
   "metadata": {},
   "source": [
    "<div>\n",
    "<img src=\"https://www.clipartkey.com/mpngs/m/12-126380_cartoon-vacuum-png.png\" width=\"100\" height=\"50\"/>\n",
    "</div>\n"
   ]
  },
  {
   "cell_type": "code",
   "execution_count": null,
   "metadata": {},
   "outputs": [],
   "source": [
    "start_vacuum_cleaner(){\n",
    "    if [[ ${repaired} == 1 ]]; then\n",
    "        while read p; do\n",
    "            echo \"${p}\"\n",
    "            sleep 1\n",
    "        done < $house/livingroom/closet/vacuum-cleaner\n",
    "    else \n",
    "        echo \"*silence*\"\n",
    "    fi\n",
    "}\n",
    "\n",
    "# fix the vacuum cleaner and start it\n",
    "\n",
    "# tip: run a function by calling its name\n",
    "# tip: look at the \"repaired\" variable."
   ]
  },
  {
   "cell_type": "code",
   "execution_count": null,
   "metadata": {},
   "outputs": [],
   "source": [
    "    grep q6answer $HOME/tutorials/answers.txt"
   ]
  },
  {
   "cell_type": "markdown",
   "metadata": {},
   "source": [
    "\"Thank you so much for all your help dear! Now please if you would excuse me, I have some friends arriving and need to clean the house.. Can you help me?\""
   ]
  },
  {
   "cell_type": "markdown",
   "metadata": {},
   "source": [
    "# Part two: Streams and File Descriptors\n",
    "\"I see now! It's all connected!\"\n",
    "\n",
    "In order to understand how programs operate with the filesystem and other programs, we need to dive a little into processes.\n",
    "\n",
    "#### What are programs?\n",
    "\n",
    "> Programs are pre-written instructions that are executed by the system's kernel.\n",
    "\n",
    "So a program is seen as as a bunch instructions packaged to serve some purpose and can be executed by your computer's main program: the kernel.\n",
    "\n",
    "\n",
    "#### Processes\n",
    "Whenever a program's instructions are being run, this active state that the program is in, is called a *process*. The process is said to be \"alive\" as long as the program continues to run.\n",
    "\n",
    "A process can also communicate outside of their own scope, for instance to interact with the computer's filesystem, hardware, or other processes. To perform these interactions, it uses *file descriptors*. The easiest way to think of these, are as streams of input and output in and out the process. File descriptors are numbered, and refer to specific systems.\n",
    "\n",
    "#### File descriptors\n",
    "There are three \"default\" file descriptors, which are \"named\"."
   ]
  },
  {
   "cell_type": "markdown",
   "metadata": {},
   "source": [
    "##### 1. \"Standard Input\" or file descriptor 0.\n",
    "\n",
    "This is where most processes receive their input from. By default, processes in your terminal will have their standard input \"connected\" to your keyboard. More specifically, to the input your terminal program receives."
   ]
  },
  {
   "cell_type": "code",
   "execution_count": null,
   "metadata": {},
   "outputs": [],
   "source": [
    "cat $HOME/README.md # implicitly reading from STDIN\n",
    "cat < $HOME/README.md # explicitly readinf from STDIN\n",
    "cat 0< $HOME/README.md # explicitly reading from STDIN using file descriptor 0"
   ]
  },
  {
   "cell_type": "markdown",
   "metadata": {},
   "source": [
    "##### 2. \"Standard Output\"  or file descriptor 1.\n",
    "\n",
    "This is where most processes send their output to. By default, processes in your terminal will have their standard output \"connected\" to your display. More specifically, your terminal program will display this output in its window."
   ]
  },
  {
   "cell_type": "code",
   "execution_count": null,
   "metadata": {},
   "outputs": [],
   "source": [
    "touch file # creates file, which uses STDOUT implicitly\n",
    "echo \"hi\" > file-2 # use results of echo command to create a file, explicitly\n",
    "echo \"Hello\" 1> file-3 # Same as previous, but explicit use of file descriptor "
   ]
  },
  {
   "cell_type": "markdown",
   "metadata": {},
   "source": [
    "> \"A file descriptor is simply a number that the operating system assigns to an open file to keep track of it. Consider it a simplified type of file pointer. It is analogous to a file handle in C.\" ~ [TLDP.org](https://www.tldp.org/LDP/abs/html/io-redirection.html#FTN.AEN17894)"
   ]
  },
  {
   "cell_type": "markdown",
   "metadata": {},
   "source": [
    "#####  3. Standard Error\" or file descriptor 2.\n",
    "\n",
    "This is where most processes send their error and informational messages to. By default, processes in your terminal will have their standard error \"connected\" to your display, just like standard output.\n",
    "\n",
    "The \"Standard Error\" filedescriptor isn't \"special\" in any way, it happens to be chosen for displaying error information but it can be used to display messages."
   ]
  },
  {
   "cell_type": "code",
   "execution_count": null,
   "metadata": {},
   "outputs": [],
   "source": [
    "ehco 1 # since the \"ehco\" command does not exist, bash will throw an error"
   ]
  },
  {
   "cell_type": "code",
   "execution_count": null,
   "metadata": {},
   "outputs": [],
   "source": [
    "ehco 2> error-file # same as above, except the error is written to a file"
   ]
  },
  {
   "cell_type": "code",
   "execution_count": null,
   "metadata": {},
   "outputs": [],
   "source": [
    "cat error-file # Here we can find the error"
   ]
  },
  {
   "cell_type": "markdown",
   "metadata": {},
   "source": [
    "> Now that we have a basic understanding of the output redirection we can eliminate this unwanted stderr message by redirecting it with 2> notation to /dev/null. Imagine /dev/null as a data sink, which discards any data redirected to it. For more information run man null. ~ [TLDP.org](https://www.tldp.org/LDP/abs/html/io-redirection.html#FTN.AEN17894)"
   ]
  },
  {
   "cell_type": "code",
   "execution_count": null,
   "metadata": {},
   "outputs": [],
   "source": [
    "# You can redirect errors to a special file called /dev/null\n",
    "ehco 2> /dev/null"
   ]
  },
  {
   "cell_type": "markdown",
   "metadata": {},
   "source": [
    "#### Combining STDOUT and STDERR\n",
    "\n",
    "By default STDERR is written only to your screen. However, you can redirect the streams to both be written to file"
   ]
  },
  {
   "cell_type": "code",
   "execution_count": null,
   "metadata": {},
   "outputs": [],
   "source": [
    "command &> file # both STDOUT and STDERR will be written to `file`"
   ]
  },
  {
   "cell_type": "code",
   "execution_count": null,
   "metadata": {},
   "outputs": [],
   "source": [
    "# Appending to a file\n",
    "echo \"One\" > file\n",
    "cat file"
   ]
  },
  {
   "cell_type": "code",
   "execution_count": null,
   "metadata": {},
   "outputs": [],
   "source": [
    "echo \"Another one\" >> file\n",
    "cat file"
   ]
  },
  {
   "cell_type": "markdown",
   "metadata": {},
   "source": [
    "Advanced tip: [How to PIPE STDERR to another program](https://stackoverflow.com/questions/2342826/how-can-i-pipe-stderr-and-not-stdout)"
   ]
  },
  {
   "cell_type": "markdown",
   "metadata": {},
   "source": [
    "### Exercises"
   ]
  },
  {
   "cell_type": "markdown",
   "metadata": {},
   "source": [
    "7: Create a file that lists main areas in the house (subdirs of `$house`)"
   ]
  },
  {
   "cell_type": "code",
   "execution_count": null,
   "metadata": {},
   "outputs": [],
   "source": [
    "# tip: use `ls` in combination with the STDOUT file descriptor\n"
   ]
  },
  {
   "cell_type": "code",
   "execution_count": null,
   "metadata": {},
   "outputs": [],
   "source": [
    "# grep q7answer $HOME/tutorials/answers.txt#"
   ]
  },
  {
   "cell_type": "markdown",
   "metadata": {},
   "source": [
    "8: Create an `ls` command that fails and writes the STDERR to a file"
   ]
  },
  {
   "cell_type": "code",
   "execution_count": null,
   "metadata": {},
   "outputs": [],
   "source": []
  },
  {
   "cell_type": "code",
   "execution_count": null,
   "metadata": {},
   "outputs": [],
   "source": [
    "# grep q8answer $HOME/tutorials/answers.txt#"
   ]
  },
  {
   "cell_type": "markdown",
   "metadata": {},
   "source": [
    "9. Run some commands and append all results to the same `file`"
   ]
  },
  {
   "cell_type": "code",
   "execution_count": null,
   "metadata": {},
   "outputs": [],
   "source": [
    "\n",
    "\n"
   ]
  },
  {
   "cell_type": "code",
   "execution_count": null,
   "metadata": {},
   "outputs": [],
   "source": [
    "# grep q9answer $HOME/tutorials/answers.txt#"
   ]
  },
  {
   "cell_type": "markdown",
   "metadata": {},
   "source": [
    "# Part three: Creating a bash script\n",
    "\"Now WE get to make the mistakes.\"\n",
    "\n",
    "In order to create your own programs that you can run?\n",
    "\n",
    "The following things are required:\n",
    "\n",
    "- Creating a script with the `.sh` suffix\n",
    "- Granting execution permission with `chmod`\n",
    "- Running the script with either `source` or `bash`"
   ]
  },
  {
   "cell_type": "markdown",
   "metadata": {},
   "source": [
    "For this, we should go to the terminal, because running it in this notebook environment is not ideal due to lack of an editor."
   ]
  },
  {
   "cell_type": "markdown",
   "metadata": {},
   "source": [
    "# Parth four: Conditionals and if-else statement\n",
    "\"Instructions can be confusingly clear\"\n",
    "\n",
    "[Boolean logic ](https://www.reddit.com/r/explainlikeimfive/comments/xcccw/eli5_boolean_logic/)\n",
    "is used in probably every programming language. It comes naturally to us to ask yes-or-no questions. Bash is no different."
   ]
  },
  {
   "cell_type": "markdown",
   "metadata": {},
   "source": [
    "We can use the `[[ value1 comparison_symbol value2 ]]` to compare values:"
   ]
  },
  {
   "cell_type": "code",
   "execution_count": null,
   "metadata": {},
   "outputs": [],
   "source": [
    "[[ \"a\" = \"a\" ]] # note the spaces between [[ ], they are important"
   ]
  },
  {
   "cell_type": "markdown",
   "metadata": {},
   "source": [
    "![comparison_operators](images/comparison_operators.JPG)"
   ]
  },
  {
   "cell_type": "markdown",
   "metadata": {},
   "source": [
    "#### Exit status\n",
    "\n",
    "The exit code of a program is important when understanding comparisons and conditional programs.\n",
    "\n",
    "Whenever a program successfully completes, the \"exit code\" of the program will be 0 (zero). If a program fails, the default exit code is 1 (one). \n",
    "\n",
    "There are some special exit codes as wel:\n",
    "https://shapeshed.com/unix-exit-codes/ check out a detailed guide here.\n",
    "\n",
    "For now, we will assume our exit code will usually be `0` or not `0`."
   ]
  },
  {
   "cell_type": "code",
   "execution_count": null,
   "metadata": {},
   "outputs": [],
   "source": [
    "ls # we run a command\n",
    "echo $? # the exit code of the previously run command is stored in $?"
   ]
  },
  {
   "cell_type": "code",
   "execution_count": null,
   "metadata": {},
   "outputs": [],
   "source": [
    "cat non-exiting-file # deliberately run a failing command\n",
    "echo $? # will produce the exit code 1"
   ]
  },
  {
   "cell_type": "markdown",
   "metadata": {},
   "source": [
    "We can now see how the exit status of a comparison is used for True/False results:"
   ]
  },
  {
   "cell_type": "code",
   "execution_count": null,
   "metadata": {},
   "outputs": [],
   "source": [
    "[[ 1 -eq 1 ]]\n",
    "echo $?"
   ]
  },
  {
   "cell_type": "code",
   "execution_count": null,
   "metadata": {},
   "outputs": [],
   "source": [
    "[[ 1 -eq 2 ]]\n",
    "echo $?"
   ]
  },
  {
   "cell_type": "markdown",
   "metadata": {},
   "source": [
    "**Throwing our own exit status**\n",
    "\n",
    "Its possibly to make your script exit when a certain condition is met (or isn't met) with `exit <insert-code>` e.g. `exit 1`.\n",
    "\n",
    "Note that this will kill the current script that is running, and will kill your shell when you are running the script in `source` mode. That is why it is advisable to run your bash scripts with `bash` if they contain `exit` statements:"
   ]
  },
  {
   "cell_type": "code",
   "execution_count": null,
   "metadata": {},
   "outputs": [],
   "source": [
    "exit 1 # this kills the current shell program and returns the 1 exit code"
   ]
  },
  {
   "cell_type": "markdown",
   "metadata": {},
   "source": [
    "### If-else\n",
    "\"Just because you can, doesn't mean you should\"\n",
    "\n",
    "It is often very beneficial to run conditional commands: if \"A\" happens, perform action 1, otherwise perform action 2. We can use the following syntax to perform if-else conditional logic in bash"
   ]
  },
  {
   "cell_type": "code",
   "execution_count": null,
   "metadata": {},
   "outputs": [],
   "source": [
    "num_a=100\n",
    "num_b=200\n",
    "\n",
    "if [ $num_a -lt $num_b ]; then\n",
    "    echo \"$num_a is less than $num_b!\"\n",
    "fi"
   ]
  },
  {
   "cell_type": "markdown",
   "metadata": {},
   "source": [
    "### For-loops\n",
    "\"All of them?!\"\n",
    "\n",
    "We can \"loop\" through a number of variables by using the `for` keyword. It uses the following syntax:\n",
    "```\n",
    "for <variable> in <range>; do\n",
    "    <something>\n",
    "done\n",
    "```"
   ]
  },
  {
   "cell_type": "code",
   "execution_count": null,
   "metadata": {},
   "outputs": [],
   "source": [
    "for i in 1 2 3; do\n",
    "    echo $i\n",
    "done"
   ]
  },
  {
   "cell_type": "markdown",
   "metadata": {},
   "source": [
    "The `seq <start> <end>` keyword can be helpful in generating for loops:"
   ]
  },
  {
   "cell_type": "code",
   "execution_count": null,
   "metadata": {},
   "outputs": [],
   "source": [
    "for i in $(seq 1 $END); do echo $i >> numbers.txt; done"
   ]
  },
  {
   "cell_type": "markdown",
   "metadata": {},
   "source": [
    "And we could create a for loop for the items we just wrote:"
   ]
  },
  {
   "cell_type": "code",
   "execution_count": null,
   "metadata": {},
   "outputs": [],
   "source": [
    "for in in $(cat numbers.txt); do echo \"Number is $i\"; done"
   ]
  }
 ],
 "metadata": {
  "kernelspec": {
   "display_name": "Bash",
   "language": "bash",
   "name": "bash"
  },
  "language_info": {
   "codemirror_mode": {
    "name": "ipython",
    "version": 3
   },
   "file_extension": ".py",
   "mimetype": "text/x-python",
   "name": "python",
   "nbconvert_exporter": "python",
   "pygments_lexer": "ipython3",
   "version": "3.7.3"
  }
 },
 "nbformat": 4,
 "nbformat_minor": 4
}
