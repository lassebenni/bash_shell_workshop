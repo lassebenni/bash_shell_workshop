{
 "cells": [
  {
   "cell_type": "code",
   "execution_count": 19,
   "metadata": {},
   "outputs": [
    {
     "name": "stderr",
     "output_type": "stream",
     "text": [
      "UsageError: Cell magic `%%ls` not found (But line magic `%ls` exists, did you mean that instead?).\n"
     ]
    }
   ],
   "source": []
  },
  {
   "cell_type": "markdown",
   "metadata": {},
   "source": [
    "# Epilogue"
   ]
  },
  {
   "cell_type": "markdown",
   "metadata": {},
   "source": [
    "## \"Tell me friend, where am I?\""
   ]
  },
  {
   "cell_type": "code",
   "execution_count": null,
   "metadata": {},
   "outputs": [],
   "source": [
    "cat /etc/os-release"
   ]
  },
  {
   "cell_type": "markdown",
   "metadata": {},
   "source": [
    "## \"Hmm, and who are you again?\""
   ]
  },
  {
   "cell_type": "code",
   "execution_count": null,
   "metadata": {},
   "outputs": [],
   "source": [
    "echo $0"
   ]
  },
  {
   "cell_type": "markdown",
   "metadata": {},
   "source": [
    "## \"And what do they call me?\""
   ]
  },
  {
   "cell_type": "code",
   "execution_count": null,
   "metadata": {},
   "outputs": [],
   "source": [
    "whoami"
   ]
  },
  {
   "cell_type": "markdown",
   "metadata": {},
   "source": [
    "---"
   ]
  },
  {
   "cell_type": "markdown",
   "metadata": {},
   "source": [
    "# Chapter one: Basic commands\n",
    "\"Every journey...\""
   ]
  },
  {
   "cell_type": "markdown",
   "metadata": {},
   "source": [
    "## `man` for program documentation (https://tldr.ostera.io/man)\n",
    " \"Man man man.\"\n",
    " \n",
    " Use man `program` for a manual/readme of the program."
   ]
  },
  {
   "cell_type": "code",
   "execution_count": null,
   "metadata": {},
   "outputs": [],
   "source": [
    "man ksu # for example if we wanted to know about the `ksu` program"
   ]
  },
  {
   "cell_type": "markdown",
   "metadata": {},
   "source": [
    "## `pwd` to list the current directory.\n",
    "\"I will always be here for you.\""
   ]
  },
  {
   "cell_type": "code",
   "execution_count": null,
   "metadata": {},
   "outputs": [],
   "source": [
    "pwd"
   ]
  },
  {
   "cell_type": "markdown",
   "metadata": {},
   "source": [
    "---"
   ]
  },
  {
   "cell_type": "markdown",
   "metadata": {},
   "source": [
    "## `ls` to list directory contents  (https://tldr.ostera.io/ls) \n",
    "\"Show me the money!\""
   ]
  },
  {
   "cell_type": "code",
   "execution_count": null,
   "metadata": {},
   "outputs": [],
   "source": [
    "ls"
   ]
  },
  {
   "cell_type": "markdown",
   "metadata": {},
   "source": [
    "When using `ls`, by default we list the current directory. We can also list other directories by suppling the path as an argument:"
   ]
  },
  {
   "cell_type": "code",
   "execution_count": null,
   "metadata": {},
   "outputs": [],
   "source": [
    "ls /home/jovyan"
   ]
  },
  {
   "cell_type": "markdown",
   "metadata": {},
   "source": [
    "---"
   ]
  },
  {
   "cell_type": "markdown",
   "metadata": {},
   "source": [
    "## Linux directory structure:\n",
    "\" All good stories starts with a `/`\"\n",
    "\n",
    "Linx has a hierarchical directory structure (like many UNIX inspired OS's).\n",
    "The top-level dir is the \"root-dir\" or \"/\"."
   ]
  },
  {
   "cell_type": "code",
   "execution_count": null,
   "metadata": {},
   "outputs": [],
   "source": [
    "ls /"
   ]
  },
  {
   "cell_type": "markdown",
   "metadata": {},
   "source": [
    "All these directories/folders have specific meaning and purpose, but for now we are only interested in our own folder:\n",
    "`/home/jovyan`. For more information on the folder structure on *NIX systems: https://serverfault.com/questions/24523/meaning-of-directories-on-unix-and-unix-like-systems"
   ]
  },
  {
   "cell_type": "markdown",
   "metadata": {},
   "source": [
    "#### ls has many options, some fun ones are `ls -thor` (http://man7.org/linux/man-pages/man1/ls.1.html)       \n",
    "-t     sort by modification time, newest first\n",
    "\n",
    "-h / --human-readable with -l and -s, print sizes like 1K 234M 2G etc.\n",
    "\n",
    "-o     like -l, but do not list group information\n",
    "\n",
    "-r  reverse order while sorting\n",
    "\n",
    "This gives us the mleast recently changed files with human readable sizes and full path information (time modified, owner)"
   ]
  },
  {
   "cell_type": "code",
   "execution_count": null,
   "metadata": {},
   "outputs": [],
   "source": [
    "ls -thor"
   ]
  },
  {
   "cell_type": "markdown",
   "metadata": {},
   "source": [
    "----"
   ]
  },
  {
   "cell_type": "markdown",
   "metadata": {},
   "source": [
    "## `mkdir` - create directory  (https://tldr.ostera.io/mkdir)\n",
    "\"The lord giveth..\" "
   ]
  },
  {
   "cell_type": "code",
   "execution_count": null,
   "metadata": {},
   "outputs": [],
   "source": [
    "ls"
   ]
  },
  {
   "cell_type": "code",
   "execution_count": null,
   "metadata": {},
   "outputs": [],
   "source": [
    "mkdir my_very_first_dir"
   ]
  },
  {
   "cell_type": "code",
   "execution_count": null,
   "metadata": {},
   "outputs": [],
   "source": [
    "ls"
   ]
  },
  {
   "cell_type": "markdown",
   "metadata": {},
   "source": [
    "Use `mkdir -p` to create nested subdirs if they did not exist yet."
   ]
  },
  {
   "cell_type": "code",
   "execution_count": null,
   "metadata": {},
   "outputs": [],
   "source": [
    "mkdir -p my_very_first_dir/subdir/even-subber-dir"
   ]
  },
  {
   "cell_type": "code",
   "execution_count": null,
   "metadata": {},
   "outputs": [],
   "source": [
    "ls my_very_first_dir/subdir"
   ]
  },
  {
   "cell_type": "markdown",
   "metadata": {},
   "source": [
    "---"
   ]
  },
  {
   "cell_type": "markdown",
   "metadata": {},
   "source": [
    "## `cd` - change directory  (https://tldr.ostera.io/cd)\n",
    "\"Wait, where are we going?\""
   ]
  },
  {
   "cell_type": "code",
   "execution_count": null,
   "metadata": {},
   "outputs": [],
   "source": [
    "ls"
   ]
  },
  {
   "cell_type": "code",
   "execution_count": null,
   "metadata": {},
   "outputs": [],
   "source": [
    "cd my_very_first_dir"
   ]
  },
  {
   "cell_type": "code",
   "execution_count": null,
   "metadata": {},
   "outputs": [],
   "source": [
    "ls"
   ]
  },
  {
   "cell_type": "markdown",
   "metadata": {},
   "source": [
    "use `cd ..` to go back up one directory, or repeat the `../../` pattern to traverse up directories all the way up to root `/`."
   ]
  },
  {
   "cell_type": "code",
   "execution_count": null,
   "metadata": {},
   "outputs": [],
   "source": [
    "cd .."
   ]
  },
  {
   "cell_type": "code",
   "execution_count": null,
   "metadata": {},
   "outputs": [],
   "source": [
    "ls"
   ]
  },
  {
   "cell_type": "markdown",
   "metadata": {},
   "source": [
    "#### protip: you can `cd` into your last directory by using `cd -` "
   ]
  },
  {
   "cell_type": "code",
   "execution_count": null,
   "metadata": {},
   "outputs": [],
   "source": [
    "cd /"
   ]
  },
  {
   "cell_type": "code",
   "execution_count": null,
   "metadata": {},
   "outputs": [],
   "source": [
    "ls"
   ]
  },
  {
   "cell_type": "code",
   "execution_count": null,
   "metadata": {},
   "outputs": [],
   "source": [
    "cd -"
   ]
  },
  {
   "cell_type": "markdown",
   "metadata": {},
   "source": [
    "-----"
   ]
  },
  {
   "cell_type": "markdown",
   "metadata": {},
   "source": [
    "## `cat` - print/concatenate files (https://tldr.ostera.io/cat)4\n",
    "\"All the passwords will be mine!\"\n",
    "\n",
    "This is an extremely useful core-functionality of the shell, being able to quickly print out the contents of any type of file to the shell (although it might not be human readable)"
   ]
  },
  {
   "cell_type": "code",
   "execution_count": null,
   "metadata": {},
   "outputs": [],
   "source": [
    "ls # to see our files"
   ]
  },
  {
   "cell_type": "code",
   "execution_count": null,
   "metadata": {},
   "outputs": [],
   "source": [
    "cat README.md"
   ]
  },
  {
   "cell_type": "markdown",
   "metadata": {},
   "source": [
    "We can `cat` an indefinite (probably not really) number of files together into one."
   ]
  },
  {
   "cell_type": "code",
   "execution_count": null,
   "metadata": {},
   "outputs": [],
   "source": [
    "cat README.md README.md README.md README.md README.md"
   ]
  },
  {
   "cell_type": "markdown",
   "metadata": {},
   "source": [
    "It doesn't have to be a textfile, either, it will try to read any file:"
   ]
  },
  {
   "cell_type": "code",
   "execution_count": null,
   "metadata": {},
   "outputs": [],
   "source": [
    "cat postBuild"
   ]
  },
  {
   "cell_type": "markdown",
   "metadata": {},
   "source": [
    "---"
   ]
  },
  {
   "cell_type": "markdown",
   "metadata": {},
   "source": [
    "## `cp` - copy  (https://tldr.ostera.io/cp)\n",
    "\"The next best thing to cloning.\""
   ]
  },
  {
   "cell_type": "code",
   "execution_count": null,
   "metadata": {},
   "outputs": [],
   "source": [
    "cp README.md README-copy.md\n",
    "ls"
   ]
  },
  {
   "cell_type": "markdown",
   "metadata": {},
   "source": [
    "Or a folder"
   ]
  },
  {
   "cell_type": "code",
   "execution_count": null,
   "metadata": {},
   "outputs": [],
   "source": [
    "cp -r my_very_first_dir second_dir\n",
    "ls"
   ]
  },
  {
   "cell_type": "markdown",
   "metadata": {},
   "source": [
    "---"
   ]
  },
  {
   "cell_type": "markdown",
   "metadata": {},
   "source": [
    "## `mv` - move  (https://tldr.ostera.io/mv)\n",
    "\"Here, there, it matters little to me.\"\n",
    "\n",
    "Watch out though, move is a destructive operation, once a file/directory is moved or another one, it will overwrite it!"
   ]
  },
  {
   "cell_type": "code",
   "execution_count": null,
   "metadata": {},
   "outputs": [],
   "source": [
    "mv README-copy.md README.md\n",
    "ls"
   ]
  },
  {
   "cell_type": "markdown",
   "metadata": {},
   "source": [
    "---"
   ]
  },
  {
   "cell_type": "markdown",
   "metadata": {},
   "source": [
    "## `touch` - create file or   (https://tldr.ostera.io/mv)\n",
    "\"The creative type I see..\"\n",
    "\n",
    "Creates an empty file with the name and filetype as provided in the name, the filetype can be blank"
   ]
  },
  {
   "cell_type": "code",
   "execution_count": null,
   "metadata": {},
   "outputs": [],
   "source": [
    "touch some.txt some other\n",
    "ls -la some.txt some other"
   ]
  },
  {
   "cell_type": "markdown",
   "metadata": {},
   "source": [
    "---"
   ]
  },
  {
   "cell_type": "markdown",
   "metadata": {},
   "source": [
    "## `rm` - remove file/dir  (https://tldr.ostera.io/rm)\n",
    "\"...and the Lord taketh away.\"\n",
    "\n",
    "We can either remove a file with `rm {file}` or a directory and everything in it with a `rm -r {directory}` which is a recursive operation."
   ]
  },
  {
   "cell_type": "code",
   "execution_count": null,
   "metadata": {},
   "outputs": [],
   "source": [
    "mkdir -p somedir\n",
    "touch somedir/somefile somedir/some_other_file\n",
    "ls somedir"
   ]
  },
  {
   "cell_type": "code",
   "execution_count": null,
   "metadata": {},
   "outputs": [],
   "source": [
    "rm somedir/somefile\n",
    "rm -r somedir\n",
    "ls"
   ]
  },
  {
   "cell_type": "markdown",
   "metadata": {},
   "source": [
    "---"
   ]
  },
  {
   "cell_type": "code",
   "execution_count": null,
   "metadata": {},
   "outputs": [],
   "source": [
    "ls -la /home"
   ]
  },
  {
   "cell_type": "markdown",
   "metadata": {},
   "source": [
    "---"
   ]
  },
  {
   "cell_type": "markdown",
   "metadata": {},
   "source": [
    "# Chapter two: Users, Groups and Permissions\n",
    "\"I am sorry Dave, I am afraid I can't do that.\"\n",
    "\n",
    "(https://linuxacademy.com/guide/12659-understanding-linux-users-and-groups/)"
   ]
  },
  {
   "cell_type": "markdown",
   "metadata": {},
   "source": [
    "### User\n",
    "\"PEBCAK: problem exists between chair and keyboard.\""
   ]
  },
  {
   "cell_type": "markdown",
   "metadata": {},
   "source": [
    "The location `/etc/passwd` contains information about the users on this machine.\n",
    "\n",
    "Columns explained, left-to-right:\n",
    "\n",
    "username | password | userID | groupID | comment | home-dir | default shell"
   ]
  },
  {
   "cell_type": "code",
   "execution_count": null,
   "metadata": {},
   "outputs": [],
   "source": [
    "cat /etc/passwd "
   ]
  },
  {
   "cell_type": "markdown",
   "metadata": {},
   "source": [
    "### Groups\n",
    "\"I refuse to join any club that would have me as a member.\""
   ]
  },
  {
   "cell_type": "markdown",
   "metadata": {},
   "source": [
    "Groups are a way to grant multiple users the same permissions. The default group of a user is their own name `jovyan/jovyan`.\n",
    "\n",
    "Information on groups are stored in `/etc/group`.\n",
    "\n",
    "Column structure:\n",
    "\n",
    "name | password | groupID | users"
   ]
  },
  {
   "cell_type": "code",
   "execution_count": null,
   "metadata": {},
   "outputs": [],
   "source": [
    "cat /etc/group"
   ]
  },
  {
   "cell_type": "markdown",
   "metadata": {},
   "source": [
    "## Permissions\n",
    "\"Mine! Mine! Mine!\"\n",
    "\n",
    "Linux the `user` and `group` concepts we just examined to handle permissions on folders and files. There are different kinds of permissions."
   ]
  },
  {
   "cell_type": "code",
   "execution_count": null,
   "metadata": {},
   "outputs": [],
   "source": [
    "ls -l"
   ]
  },
  {
   "cell_type": "markdown",
   "metadata": {},
   "source": [
    "`-rw-r--r--`\n",
    "These are the permissions for a specific file.\n",
    "The permissions are divided into three groups:\n",
    "\n",
    "`OWNER-GROUP-OTHER`\n",
    "\n",
    "Each party has three different permission options: \n",
    "\n",
    "`read-write-execute`\n",
    "\n",
    "read (r) - Permission to process the information in the file e.g. using `cat` or any other command.\n",
    "\n",
    "write (w) - Permission to change the contents of the file in anyway, including metadata like the name.\n",
    "\n",
    "execute (x) - Permission to execute file or `cd` into the folder."
   ]
  },
  {
   "attachments": {
    "image.png": {
     "image/png": "[encoded data removed]"
    }
   },
   "cell_type": "markdown",
   "metadata": {},
   "source": [
    "![image.png](attachment:image.png)"
   ]
  },
  {
   "cell_type": "code",
   "execution_count": null,
   "metadata": {},
   "outputs": [],
   "source": [
    "ls -la README.md"
   ]
  },
  {
   "cell_type": "markdown",
   "metadata": {},
   "source": [
    "The `rwx` is repeated for all three groups: owners/creators, groups, and the rest.\n"
   ]
  },
  {
   "cell_type": "markdown",
   "metadata": {},
   "source": [
    "### CHMOD - Changing permissions (https://tldr.ostera.io/chmod)\n",
    "\"This was not in my contract!\"\n",
    "\n",
    "In order to change the permissions, we can use the `chmod` command, which \"changes the permission bits\" of the file.\n",
    "\n",
    "Let's say we only want ourselves and our group to be able to use this file."
   ]
  },
  {
   "cell_type": "code",
   "execution_count": null,
   "metadata": {},
   "outputs": [],
   "source": [
    "chmod u+wrx,g+wrx,o-rwx README.md"
   ]
  },
  {
   "cell_type": "code",
   "execution_count": null,
   "metadata": {},
   "outputs": [],
   "source": [
    "ls -la README.md"
   ]
  },
  {
   "cell_type": "markdown",
   "metadata": {},
   "source": [
    "Now no other users can acccess or execute this file.\n"
   ]
  },
  {
   "attachments": {
    "image.png": {
     "image/png": "[encoded data removed]"
    }
   },
   "cell_type": "markdown",
   "metadata": {},
   "source": [
    "Linux actually uses a binary notation for the permissions, and `rwx` are just aliases. This means that you can also use the numbers for the \"File Mode\" directly if you wanted to:\n",
    "\n",
    "![image.png](attachment:image.png)"
   ]
  },
  {
   "cell_type": "code",
   "execution_count": null,
   "metadata": {},
   "outputs": [],
   "source": [
    "chmod 770 README.md "
   ]
  },
  {
   "cell_type": "markdown",
   "metadata": {},
   "source": [
    "This has the same effect as the `rwxrwx---` and might be more readable if you remember the octal representation."
   ]
  },
  {
   "cell_type": "markdown",
   "metadata": {},
   "source": [
    "#### CHMOD +X script.sh\n",
    "The important tidit about `chmod` is that you need it to set the `execute` permission on bash scripts when you create them yourself:"
   ]
  },
  {
   "cell_type": "code",
   "execution_count": null,
   "metadata": {},
   "outputs": [],
   "source": [
    "ls script.sh\n",
    "chmod u+x script.sh # or chmod +x script.sh if everyone may execute it"
   ]
  },
  {
   "attachments": {
    "image.png": {
     "image/png": "[encoded data removed]"
    }
   },
   "cell_type": "markdown",
   "metadata": {},
   "source": [
    "### Chown  (https://tldr.ostera.io/chown)\n",
    "\"It's dangerous to go alone! Take this.\"\n",
    "\n",
    "There is another command `chown` which can give ownership permissions to other users, meaning they can perform `chmod`. For now I won't go into it, but this is a good picture for the differences.\n",
    "\n",
    "![image.png](attachment:image.png)\n",
    "\n",
    "Now you should understand why system administrators \"joke\" about developers leaving `777` permissions on a file."
   ]
  },
  {
   "cell_type": "markdown",
   "metadata": {},
   "source": [
    "# Chapter Three: Variables \n",
    "\"There are 2 hard problems in computer science: cache invalidation, naming things, and off-by-1 errors.\" \n",
    "\n",
    "What is programming language without variables. We use them to store names and results, denoted by a human-readable name. (at least in theory..). Use them well!"
   ]
  },
  {
   "cell_type": "markdown",
   "metadata": {},
   "source": [
    "---\n",
    "But first, `echo`:"
   ]
  },
  {
   "cell_type": "markdown",
   "metadata": {},
   "source": [
    "### Echo - Print given arguments (https://tldr.ostera.io/echo)\n",
    "\"Is anyone out there?\"\n",
    "\n",
    "Echo is one of the core-utilities in a bash scriptors toolbelt. It can print output to the terminal screen, meaning you can validate any of your commands. It is also used to send output from one program to another.\n",
    "\n",
    "> Echo is also particularly useful for showing the values of environmental variables, which tell the shell how to behave as a user works at the command line or in scripts."
   ]
  },
  {
   "cell_type": "code",
   "execution_count": null,
   "metadata": {},
   "outputs": [],
   "source": [
    "echo \"Hi!\"\n",
    "echo \"what is happening?\""
   ]
  },
  {
   "cell_type": "markdown",
   "metadata": {},
   "source": [
    "---"
   ]
  },
  {
   "cell_type": "markdown",
   "metadata": {},
   "source": [
    "#### Variables in the shell"
   ]
  },
  {
   "cell_type": "code",
   "execution_count": null,
   "metadata": {},
   "outputs": [],
   "source": [
    "# environmental variables already defined by other programs\n",
    "env "
   ]
  },
  {
   "cell_type": "markdown",
   "metadata": {},
   "source": [
    "We can use `echo` to display our variables."
   ]
  },
  {
   "cell_type": "code",
   "execution_count": null,
   "metadata": {},
   "outputs": [],
   "source": [
    "NAME=\"Lasse\"\n",
    "name=\"Not lasse\""
   ]
  },
  {
   "cell_type": "markdown",
   "metadata": {},
   "source": [
    "This will create a variable `NAME`. Notice that `name` is a different variable altogether. Unlike Windows, in UNIX systems there is a big difference between lower and uppercase! It is common practice to write VARIABLES in uppercase.\n",
    "\n",
    "Variables can be shown by prepending them with a dollar symbol: `$VARIABLE`.\n",
    "\n",
    "Because all kinds of reasons, it good to ALWAYS use the following convention for variables in your scripts:\n",
    "\n",
    "`\"${NAME}\"`\n",
    "\n",
    "This ensures that you don't get unexpected values, but always the variable. \n",
    "\n",
    "> Parameter expansions should always be double-quoted for consistency and to prevent any potential white-space in them from causing word-splitting in addition to triggering unexpected pathname completion. While expanding parameters, you can apply a special parameter expansion operator to mutate the expanded value in some way.\n",
    "\n",
    "For more information: https://guide.bash.academy/expansions/\n"
   ]
  },
  {
   "cell_type": "code",
   "execution_count": null,
   "metadata": {},
   "outputs": [],
   "source": [
    "echo \"${NAME}\" # super safe\n",
    "echo \"$NAME\" # less safe but ok\n",
    "echo ${NAME} # less safe but ok\n",
    "echo $NAME # unsafe"
   ]
  },
  {
   "cell_type": "markdown",
   "metadata": {},
   "source": [
    "Something interesting about bash: spaces (` `) are very important. Each argument to a function is by default \"delimited\" by a space. So a space more or less somewhere can actually break your program:"
   ]
  },
  {
   "cell_type": "code",
   "execution_count": null,
   "metadata": {},
   "outputs": [],
   "source": [
    "NAME =\"Lasse\" # incorrect space after `NAME`\n",
    "NAME= \"Lasse\" # incorrect space after `=`\n",
    " NAME=\"Lasse\" # correct. The starting space is not parsed as an argument. It does arouse strong feelings in OCD individuals."
   ]
  },
  {
   "cell_type": "markdown",
   "metadata": {},
   "source": [
    "#### Capturing command output to a variable\n",
    "You can use VARIABLES to capture the output of program. This is extremely useful when creating a bash script, because you can re-use the result of a program instead of re-running it everytime.\n",
    "\n",
    "The syntax is `VAR=$(PROGRAM)`"
   ]
  },
  {
   "cell_type": "code",
   "execution_count": null,
   "metadata": {},
   "outputs": [],
   "source": [
    "CURRENT_FILES=$(ls -l)\n",
    "echo \"${CURRENT_FILES}\" # the `CURRENT_FILES` variable now contains the output of the `ls -l` command."
   ]
  },
  {
   "cell_type": "markdown",
   "metadata": {},
   "source": [
    "#### Variables in child-processed (\"new bashes\")\n",
    "One pesky thing when learning about variables, is that you would assume that they always live inside the shell. While this is true, you might not know yet that when you run a program, it either runs it in the current shell, or in a \"child-process\". This is basically a shell-within-the-shell (inception), but by default it does not retain all the information of its parent, like the VARIABLES that we just set:"
   ]
  },
  {
   "cell_type": "code",
   "execution_count": null,
   "metadata": {},
   "outputs": [],
   "source": [
    "export CURRENT_FILES\n",
    "$(\"$CURRENT_FILES\")"
   ]
  },
  {
   "attachments": {
    "image.png": {
     "image/png": "[encoded data removed]"
    }
   },
   "cell_type": "markdown",
   "metadata": {},
   "source": [
    "# Chapter Four: Functions\n",
    "\"The program does what you ask, not what you want.\"\n",
    "\n",
    "Functions  are the staple of bash, they are the programs that perform all the lifting.A program is a collection of its functions. Creating functions is the start of creating your own bash scripts.\n",
    "\n",
    "![image.png](attachment:image.png)\n",
    "https://ryanstutorials.net/bash-scripting-tutorial/bash-functions.php"
   ]
  },
  {
   "cell_type": "code",
   "execution_count": null,
   "metadata": {},
   "outputs": [],
   "source": [
    "# The preferred:\n",
    "my_function() {\n",
    "    echo \"hi!\"\n",
    "}"
   ]
  },
  {
   "cell_type": "code",
   "execution_count": null,
   "metadata": {},
   "outputs": [],
   "source": [
    "my_function"
   ]
  },
  {
   "cell_type": "markdown",
   "metadata": {},
   "source": [
    "### Streams or \"pipes\"\n",
    "\n",
    "A core concept of Unix and bash is the ability to chain programs together, called \"piping\" because of the use of the `|`symbol.\n",
    "\n",
    "The `wc -c` command counts the characters of the input it receives. We can use it for a simple example of piping:"
   ]
  },
  {
   "cell_type": "code",
   "execution_count": null,
   "metadata": {},
   "outputs": [],
   "source": [
    "my_function | wc -c"
   ]
  },
  {
   "cell_type": "markdown",
   "metadata": {},
   "source": [
    "We can pipe all kinds of programs together:"
   ]
  },
  {
   "cell_type": "code",
   "execution_count": null,
   "metadata": {},
   "outputs": [],
   "source": [
    "ls | wc -l # count the number of files in the current directory\n",
    "ls | grep \"md\" | wc -l # count the number of \"md\"s in the current directory"
   ]
  },
  {
   "cell_type": "markdown",
   "metadata": {},
   "source": [
    "note that for various reasons `ls | command` is bad practice, use `find | command`"
   ]
  },
  {
   "cell_type": "markdown",
   "metadata": {},
   "source": [
    "# Chapter Five: Redirection\n",
    "\"Where are we really going?\"\n",
    "\n",
    "Input/Outuput \"redirection\" or IO redirection for short, is an import concept of UNIX and the bash scripting language.\n",
    "\n",
    "Commands take input and produce output (usually). These \"streams\" can be manipulated to your needs.\n",
    "\n"
   ]
  },
  {
   "cell_type": "markdown",
   "metadata": {},
   "source": [
    "**Writing results to a file**\n",
    "\n",
    "We saw that `touch` is one way to create a file. But we can use the special character `>` (larger-than-symbol) to\n",
    "create a file as result of a program."
   ]
  },
  {
   "cell_type": "code",
   "execution_count": null,
   "metadata": {},
   "outputs": [],
   "source": [
    "ls > listings.txt # creates a file with the results of `ls`\n",
    "cat listings.txt # we can now read this file"
   ]
  },
  {
   "cell_type": "markdown",
   "metadata": {},
   "source": [
    "An alternative way of reading a file is by providing the \"standard input file descriptor\", which is fancy talk for the `<` symbol. It will take the file and feed it as input to the program. `program < file`"
   ]
  },
  {
   "cell_type": "code",
   "execution_count": null,
   "metadata": {},
   "outputs": [],
   "source": [
    "cat < listings.txt # using the listings.txt as input\n",
    "cat listings.txt # this is the same as above, but `cat` does the heavy lifting with the STDIN (standard input file descriptor)"
   ]
  },
  {
   "cell_type": "markdown",
   "metadata": {},
   "source": [
    "**Errors**\n",
    "\n",
    "Sometimes your programs generate errors, for instance when you don't have permissions to read certain directory's like root `/`."
   ]
  },
  {
   "cell_type": "code",
   "execution_count": null,
   "metadata": {},
   "outputs": [],
   "source": [
    "find / -name \"stuff\""
   ]
  },
  {
   "cell_type": "markdown",
   "metadata": {},
   "source": [
    "Whenever an error occurs, it is written to your terminal. However, you can redirect errors either to a file by using `2>`. The `2` is the Standard Error File descriptor (https://www.cyberciti.biz/faq/how-to-redirect-standard-error-in-bash/):"
   ]
  },
  {
   "cell_type": "code",
   "execution_count": null,
   "metadata": {},
   "outputs": [],
   "source": [
    "find / -name \"stuff\" 2> my_errors.txt"
   ]
  },
  {
   "cell_type": "markdown",
   "metadata": {},
   "source": [
    "Or we can redirect it into a special file called `null` located in `/dev/null`. It acts as a \"blackhole\" and all bytes written to it are discarded, so it is like throwing all our errors in a deep botomless pit."
   ]
  },
  {
   "cell_type": "code",
   "execution_count": null,
   "metadata": {},
   "outputs": [],
   "source": [
    "find / -name \"stuff\" 2>/dev/null"
   ]
  },
  {
   "cell_type": "markdown",
   "metadata": {},
   "source": [
    "To be continued... For more information on IO redirection:\n",
    "\n",
    "https://guide.bash.academy/commands/?=File_redirection#t3.4.0_1"
   ]
  },
  {
   "cell_type": "markdown",
   "metadata": {},
   "source": [
    "# Chapter Six: Much used functions\n",
    "\"Some tool-men say Why?, this tool-man says Why not?.\" - Tim \"The Toolman\" Taylor"
   ]
  },
  {
   "cell_type": "markdown",
   "metadata": {},
   "source": [
    "## `grep`  - Matches patterns in input text. (https://tldr.ostera.io/grep)\n",
    "\"Just GREP it.\"\n",
    "\n",
    "Grep is an extremely useful program to find textual information in files. It can find a single word in your entire file system,\n",
    "and relatively fast as well. \n",
    "\n",
    "It can take regular expressions a.k.a regex, which should make you excited. \n",
    "\n",
    "If it doesn't, an explanation of REGEX here:https://blog.usejournal.com/regular-expressions-a-complete-beginners-tutorial-c7327b9fd8eb?gi=22f46f249c. It basically means it can use symbols to look for different kinds of character/symbol combinations, like searching for all sentences that contain either the \"doggy daycare\" or \"dog kidnapping services\" and extract the price."
   ]
  },
  {
   "cell_type": "code",
   "execution_count": null,
   "metadata": {},
   "outputs": [],
   "source": [
    "cat LICENSE"
   ]
  },
  {
   "cell_type": "code",
   "execution_count": null,
   "metadata": {},
   "outputs": [],
   "source": [
    "grep -iwn \"GNU\" LICENSE"
   ]
  },
  {
   "cell_type": "markdown",
   "metadata": {},
   "source": [
    "### `find`  - Find files or directories under the given directory tree, recursively. (https://tldr.ostera.io/find)\n",
    "\"`find` and you shall find.\"\n",
    "\n",
    "Find is specifically built for finding files and directories, unlike `grep`. "
   ]
  },
  {
   "cell_type": "code",
   "execution_count": null,
   "metadata": {},
   "outputs": [],
   "source": [
    "find . -name \"README\""
   ]
  },
  {
   "cell_type": "markdown",
   "metadata": {},
   "source": [
    "An interesting thing about `find` is that it can also execute commands on the search results, one by one."
   ]
  },
  {
   "cell_type": "code",
   "execution_count": null,
   "metadata": {},
   "outputs": [],
   "source": [
    "# the \"-exec command {result-item} \\;\" is the syntx for running commands. \n",
    "find . -name \"README\" -exec ls -l {} \\;"
   ]
  },
  {
   "cell_type": "markdown",
   "metadata": {},
   "source": [
    "### `sed` - Edit text/characters in a stream/file (https://tldr.ostera.io/sed)\n",
    "\"What!? I never said that!\"\n",
    "\n",
    "`sed` is an very powerful \"find and replace\" or \"find and add\" or \"find and remove\" tool that can operate very quickly on large files\n",
    "and streams. \n",
    "\n",
    "The syntax is a bit weird, but for a replacement of a word its: `sed 's/current-word/new-word/'`, where the `s` stands for \"substitute\", it can take on more commands."
   ]
  },
  {
   "cell_type": "code",
   "execution_count": null,
   "metadata": {},
   "outputs": [],
   "source": [
    "echo \"Hi!\" | sed 's/Hi/Hello/'"
   ]
  },
  {
   "cell_type": "code",
   "execution_count": null,
   "metadata": {},
   "outputs": [],
   "source": [
    "# You can use it on files as wel:\n",
    "sed 's/GNU/NOT-GNU/' LICENSE"
   ]
  },
  {
   "cell_type": "markdown",
   "metadata": {},
   "source": [
    "### `head` - (https://tldr.ostera.io/head)  and `tail` (https://tldr.ostera.io/tail)\n",
    "\"First you wanted the last part, right?\"\n",
    "\n",
    "`head` and `tail` can be used to quickly display a part of a file, or specifically the first/last parts"
   ]
  },
  {
   "cell_type": "code",
   "execution_count": null,
   "metadata": {},
   "outputs": [],
   "source": [
    "head LICENSE"
   ]
  },
  {
   "cell_type": "code",
   "execution_count": null,
   "metadata": {},
   "outputs": [],
   "source": [
    "tail LICENSE"
   ]
  },
  {
   "cell_type": "markdown",
   "metadata": {},
   "source": [
    "### History - Command Line history. (https://tldr.ostera.io/history)\n",
    "\"He who controls the past, controls the future.\"\n",
    "\n",
    "It can be handy to see what commands you ran before:"
   ]
  },
  {
   "cell_type": "code",
   "execution_count": null,
   "metadata": {},
   "outputs": [],
   "source": [
    "history"
   ]
  },
  {
   "cell_type": "markdown",
   "metadata": {},
   "source": [
    "You can perform a specific command again by referring to its ID in the history (left number):"
   ]
  },
  {
   "cell_type": "code",
   "execution_count": null,
   "metadata": {},
   "outputs": [],
   "source": [
    "!!7"
   ]
  }
 ],
 "metadata": {
  "kernelspec": {
   "display_name": "Python 3",
   "language": "python",
   "name": "python3"
  },
  "language_info": {
   "codemirror_mode": {
    "name": "ipython",
    "version": 3
   },
   "file_extension": ".py",
   "mimetype": "text/x-python",
   "name": "python",
   "nbconvert_exporter": "python",
   "pygments_lexer": "ipython3",
   "version": "3.7.3"
  }
 },
 "nbformat": 4,
 "nbformat_minor": 2
}
